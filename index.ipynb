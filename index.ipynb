{
  "nbformat": 4,
  "nbformat_minor": 0,
  "metadata": {
    "colab": {
      "name": "index.ipynb",
      "provenance": [],
      "authorship_tag": "ABX9TyPvqgpADEPio85IVsDGde8f",
      "include_colab_link": true
    },
    "kernelspec": {
      "name": "python3",
      "display_name": "Python 3"
    }
  },
  "cells": [
    {
      "cell_type": "markdown",
      "metadata": {
        "id": "view-in-github",
        "colab_type": "text"
      },
      "source": [
        "<a href=\"https://colab.research.google.com/github/IsabelJoseph101/image_classification_brain_tumor/blob/master/index.ipynb\" target=\"_parent\"><img src=\"https://colab.research.google.com/assets/colab-badge.svg\" alt=\"Open In Colab\"/></a>"
      ]
    },
    {
      "cell_type": "markdown",
      "metadata": {
        "id": "ahqy_TUGRjnX",
        "colab_type": "text"
      },
      "source": [
        "# Brain tumor detection (CNN)"
      ]
    },
    {
      "cell_type": "markdown",
      "metadata": {
        "id": "Xq_Smk0awauC",
        "colab_type": "text"
      },
      "source": [
        "The aim of this project is to develop a convolutional neural network (CNN) that is able to accurately classify if a patient has a tumor or not based on images of MRI scans.\n",
        "\n",
        "To solve this binary classification problem I will be preforming several iterations of the neural network modelling process in order to improve on the preformance by going through the following process:\n",
        "\n",
        "1) Data pre-processing for NN\n",
        "2) Comparing performance across different types of NN\n",
        "3) Hyperparameter tuning on each type\n",
        "4) Increasing image quality of quantity if necessary\n",
        "\n",
        "From there I will then select a winning model and then preform threshold selection on it. Given the binary nature of this image classification issue, I be adopting ROC score as my main metric to measure good performance throughout the modelling. Other metrics such as F1 and Accuracy will also be added within the final evaluation of the winning model."
      ]
    },
    {
      "cell_type": "markdown",
      "metadata": {
        "id": "Ow7dY3DzzksY",
        "colab_type": "text"
      },
      "source": [
        "### Importing necessary packages"
      ]
    },
    {
      "cell_type": "code",
      "metadata": {
        "id": "0xn-MjslLyk5",
        "colab_type": "code",
        "colab": {
          "base_uri": "https://localhost:8080/",
          "height": 88
        },
        "outputId": "d16cf10a-7cca-46f2-bf06-062fdd246883"
      },
      "source": [
        "# importing necessary packages\n",
        "import numpy as np\n",
        "import pandas as pd\n",
        "import seaborn as sns\n",
        "import matplotlib\n",
        "import matplotlib.pyplot as plt\n",
        "%matplotlib inline\n",
        "\n",
        "import keras\n",
        "from keras import Sequential\n",
        "from keras import layers\n",
        "from keras.layers import *\n",
        "from keras.layers import Dense\n",
        "from keras.datasets import mnist\n",
        "from keras.preprocessing.image import ImageDataGenerator\n",
        "from keras.applications.vgg16 import VGG16, preprocess_input\n",
        "from keras.applications.resnet50 import ResNet50\n",
        "from keras.models import Model, Sequential\n",
        "from keras.optimizers import Adam, RMSprop\n",
        "from keras.callbacks import EarlyStopping\n",
        "from keras.preprocessing.image import ImageDataGenerator, array_to_img, img_to_array, load_img\n",
        "from keras.backend.tensorflow_backend import set_session\n",
        "\n",
        "from sklearn.preprocessing import LabelBinarizer\n",
        "from sklearn.model_selection import train_test_split\n",
        "from sklearn.metrics import accuracy_score, confusion_matrix\n",
        "from sklearn.metrics import roc_auc_score, classification_report, confusion_matrix, roc_curve\n",
        "from sklearn.utils import shuffle #shuffling the data improves the model\n",
        "\n",
        "from glob import glob\n",
        "import os\n",
        "from os import listdir\n",
        "from mlxtend.plotting import plot_confusion_matrix\n",
        "from tqdm import tqdm\n",
        "import cv2\n",
        "import shutil\n",
        "import itertools\n",
        "import imutils\n",
        "\n",
        "import plotly.graph_objs as go\n",
        "from plotly.offline import init_notebook_mode, iplot\n",
        "from plotly import tools\n",
        "\n",
        "import tensorflow as tf\n",
        "from tensorflow.keras import models\n",
        "from tensorflow.keras.models import Model,load_model\n",
        "from tensorflow.keras.layers import Conv2D,Input,ZeroPadding2D,BatchNormalization,Flatten,Activation,Dense,MaxPooling2D\n",
        "\n",
        "init_notebook_mode(connected=True)\n",
        "RANDOM_SEED = 123"
      ],
      "execution_count": 1,
      "outputs": [
        {
          "output_type": "stream",
          "text": [
            "/usr/local/lib/python3.6/dist-packages/statsmodels/tools/_testing.py:19: FutureWarning: pandas.util.testing is deprecated. Use the functions in the public API at pandas.testing instead.\n",
            "  import pandas.util.testing as tm\n",
            "Using TensorFlow backend.\n"
          ],
          "name": "stderr"
        },
        {
          "output_type": "display_data",
          "data": {
            "text/html": [
              "        <script type=\"text/javascript\">\n",
              "        window.PlotlyConfig = {MathJaxConfig: 'local'};\n",
              "        if (window.MathJax) {MathJax.Hub.Config({SVG: {font: \"STIX-Web\"}});}\n",
              "        if (typeof require !== 'undefined') {\n",
              "        require.undef(\"plotly\");\n",
              "        requirejs.config({\n",
              "            paths: {\n",
              "                'plotly': ['https://cdn.plot.ly/plotly-latest.min']\n",
              "            }\n",
              "        });\n",
              "        require(['plotly'], function(Plotly) {\n",
              "            window._Plotly = Plotly;\n",
              "        });\n",
              "        }\n",
              "        </script>\n",
              "        "
            ]
          },
          "metadata": {
            "tags": []
          }
        }
      ]
    },
    {
      "cell_type": "markdown",
      "metadata": {
        "id": "0wgfrvjt0LgV",
        "colab_type": "text"
      },
      "source": [
        "### Loading the data"
      ]
    },
    {
      "cell_type": "markdown",
      "metadata": {
        "id": "D3h2XmuM4veI",
        "colab_type": "text"
      },
      "source": [
        "About the data: The dataset contains 2 folders: yes and no which contains 253 Brain MRI Images. The folder yes contains 155 Brain MRI Images that are tumorous andno contains 98 Brain MRI Images that are non-tumorous."
      ]
    },
    {
      "cell_type": "code",
      "metadata": {
        "id": "tB_wRQAtMhWq",
        "colab_type": "code",
        "colab": {
          "base_uri": "https://localhost:8080/",
          "height": 51
        },
        "outputId": "cab12463-77e7-40ac-99ed-901c3bc551c7"
      },
      "source": [
        "# unzipping the file containing the data\n",
        "!unzip data.zip"
      ],
      "execution_count": 2,
      "outputs": [
        {
          "output_type": "stream",
          "text": [
            "Archive:  data.zip\n",
            "replace brain_tumor_dataset/no/1 no.jpeg? [y]es, [n]o, [A]ll, [N]one, [r]ename: "
          ],
          "name": "stdout"
        }
      ]
    },
    {
      "cell_type": "code",
      "metadata": {
        "id": "PfAt4W7PNnvd",
        "colab_type": "code",
        "colab": {}
      },
      "source": [
        "# loading images of MRI scans\n",
        "image_dir = \"brain_tumor_dataset/\""
      ],
      "execution_count": 2,
      "outputs": []
    },
    {
      "cell_type": "code",
      "metadata": {
        "id": "PvK39zlDAJU7",
        "colab_type": "code",
        "colab": {
          "base_uri": "https://localhost:8080/",
          "height": 34
        },
        "outputId": "6481dda4-715d-4d16-a115-e7cd5093c075"
      },
      "source": [
        "os.listdir(f'{image_dir}')"
      ],
      "execution_count": 3,
      "outputs": [
        {
          "output_type": "execute_result",
          "data": {
            "text/plain": [
              "['yes', 'no']"
            ]
          },
          "metadata": {
            "tags": []
          },
          "execution_count": 3
        }
      ]
    },
    {
      "cell_type": "code",
      "metadata": {
        "id": "Dw9Xs2VcO3Ms",
        "colab_type": "code",
        "colab": {
          "base_uri": "https://localhost:8080/",
          "height": 333
        },
        "outputId": "f189a969-36eb-4cfd-a9a5-7c9238d98d84"
      },
      "source": [
        "# creating recursive directories\n",
        "os.makedirs('../output/kaggle/working/augmented-images')\n",
        "os.makedirs('../output/kaggle/working/augmented-images/yes')\n",
        "os.makedirs('../output/kaggle/working/augmented-images/no')"
      ],
      "execution_count": 4,
      "outputs": [
        {
          "output_type": "error",
          "ename": "FileExistsError",
          "evalue": "ignored",
          "traceback": [
            "\u001b[0;31m---------------------------------------------------------------------------\u001b[0m",
            "\u001b[0;31mFileExistsError\u001b[0m                           Traceback (most recent call last)",
            "\u001b[0;32m<ipython-input-4-bc7b15d770cb>\u001b[0m in \u001b[0;36m<module>\u001b[0;34m()\u001b[0m\n\u001b[1;32m      1\u001b[0m \u001b[0;31m# creating recursive directories\u001b[0m\u001b[0;34m\u001b[0m\u001b[0;34m\u001b[0m\u001b[0;34m\u001b[0m\u001b[0m\n\u001b[0;32m----> 2\u001b[0;31m \u001b[0mos\u001b[0m\u001b[0;34m.\u001b[0m\u001b[0mmakedirs\u001b[0m\u001b[0;34m(\u001b[0m\u001b[0;34m'../output/kaggle/working/augmented-images'\u001b[0m\u001b[0;34m)\u001b[0m\u001b[0;34m\u001b[0m\u001b[0;34m\u001b[0m\u001b[0m\n\u001b[0m\u001b[1;32m      3\u001b[0m \u001b[0mos\u001b[0m\u001b[0;34m.\u001b[0m\u001b[0mmakedirs\u001b[0m\u001b[0;34m(\u001b[0m\u001b[0;34m'../output/kaggle/working/augmented-images/yes'\u001b[0m\u001b[0;34m)\u001b[0m\u001b[0;34m\u001b[0m\u001b[0;34m\u001b[0m\u001b[0m\n\u001b[1;32m      4\u001b[0m \u001b[0mos\u001b[0m\u001b[0;34m.\u001b[0m\u001b[0mmakedirs\u001b[0m\u001b[0;34m(\u001b[0m\u001b[0;34m'../output/kaggle/working/augmented-images/no'\u001b[0m\u001b[0;34m)\u001b[0m\u001b[0;34m\u001b[0m\u001b[0;34m\u001b[0m\u001b[0m\n",
            "\u001b[0;32m/usr/lib/python3.6/os.py\u001b[0m in \u001b[0;36mmakedirs\u001b[0;34m(name, mode, exist_ok)\u001b[0m\n\u001b[1;32m    218\u001b[0m             \u001b[0;32mreturn\u001b[0m\u001b[0;34m\u001b[0m\u001b[0;34m\u001b[0m\u001b[0m\n\u001b[1;32m    219\u001b[0m     \u001b[0;32mtry\u001b[0m\u001b[0;34m:\u001b[0m\u001b[0;34m\u001b[0m\u001b[0;34m\u001b[0m\u001b[0m\n\u001b[0;32m--> 220\u001b[0;31m         \u001b[0mmkdir\u001b[0m\u001b[0;34m(\u001b[0m\u001b[0mname\u001b[0m\u001b[0;34m,\u001b[0m \u001b[0mmode\u001b[0m\u001b[0;34m)\u001b[0m\u001b[0;34m\u001b[0m\u001b[0;34m\u001b[0m\u001b[0m\n\u001b[0m\u001b[1;32m    221\u001b[0m     \u001b[0;32mexcept\u001b[0m \u001b[0mOSError\u001b[0m\u001b[0;34m:\u001b[0m\u001b[0;34m\u001b[0m\u001b[0;34m\u001b[0m\u001b[0m\n\u001b[1;32m    222\u001b[0m         \u001b[0;31m# Cannot rely on checking for EEXIST, since the operating system\u001b[0m\u001b[0;34m\u001b[0m\u001b[0;34m\u001b[0m\u001b[0;34m\u001b[0m\u001b[0m\n",
            "\u001b[0;31mFileExistsError\u001b[0m: [Errno 17] File exists: '../output/kaggle/working/augmented-images'"
          ]
        }
      ]
    },
    {
      "cell_type": "code",
      "metadata": {
        "id": "vfqsp070O5GT",
        "colab_type": "code",
        "colab": {}
      },
      "source": [
        "# creating a function that transforms the data\n",
        "def augment_data(file_dir, n_generated_samples, save_to_dir):\n",
        "\n",
        "  '''\n",
        "  '''\n",
        "\n",
        "  data_gen = ImageDataGenerator(rotation_range=10, \n",
        "                                  width_shift_range=0.1, \n",
        "                                  height_shift_range=0.1, \n",
        "                                  shear_range=0.1, \n",
        "                                  brightness_range=(0.3, 1.0),\n",
        "                                  horizontal_flip=True, \n",
        "                                  vertical_flip=True, \n",
        "                                  fill_mode='nearest'\n",
        "                                 )\n",
        "\n",
        "  for filename in listdir(file_dir):\n",
        "        image = cv2.imread(file_dir + '/' + filename)\n",
        "        # reshaping the image\n",
        "        image = image.reshape((1,)+image.shape)\n",
        "        save_prefix = 'aug_' + filename[:-4]\n",
        "        i=0\n",
        "        for batch in data_gen.flow(x=image, batch_size=1, save_to_dir=save_to_dir,save_prefix=save_prefix, save_format='jpg'):\n",
        "                i += 1\n",
        "                if i > n_generated_samples:\n",
        "                    break"
      ],
      "execution_count": 4,
      "outputs": []
    },
    {
      "cell_type": "code",
      "metadata": {
        "id": "2iQAdccmO7ut",
        "colab_type": "code",
        "colab": {}
      },
      "source": [
        "augmented_data_path = '../output/kaggle/working/augmented-images/'"
      ],
      "execution_count": 5,
      "outputs": []
    },
    {
      "cell_type": "code",
      "metadata": {
        "id": "SbM_FzFm34ah",
        "colab_type": "code",
        "colab": {}
      },
      "source": [
        "# augment data for the examples with label equal to 'yes' representing tumurous examples\n",
        "augment_data(file_dir=image_dir+'yes',n_generated_samples=6, save_to_dir=augmented_data_path+'yes')"
      ],
      "execution_count": 6,
      "outputs": []
    },
    {
      "cell_type": "code",
      "metadata": {
        "id": "pn82Qtji3421",
        "colab_type": "code",
        "colab": {}
      },
      "source": [
        "# augment data for the examples with label equal to 'no' representing non-tumurous examples\n",
        "augment_data(file_dir=image_dir+'no', n_generated_samples=9, save_to_dir=augmented_data_path+'no')"
      ],
      "execution_count": 7,
      "outputs": []
    },
    {
      "cell_type": "markdown",
      "metadata": {
        "id": "BiYGOW0X48q4",
        "colab_type": "text"
      },
      "source": [
        "### Pre-processing the data"
      ]
    },
    {
      "cell_type": "code",
      "metadata": {
        "id": "buzdTsA89sL1",
        "colab_type": "code",
        "colab": {
          "base_uri": "https://localhost:8080/",
          "height": 34
        },
        "outputId": "d44a6f24-6f97-48de-81e1-d98c61eccbda"
      },
      "source": [
        "yes_generator_base = ImageDataGenerator(rescale= 1./255).flow_from_directory(\n",
        "        augmented_data_path+'no', \n",
        "        target_size=(500,500),\n",
        "        batch_size = 1500,\n",
        "        color_mode = 'grayscale',\n",
        "        seed = 12\n",
        "        )"
      ],
      "execution_count": 8,
      "outputs": [
        {
          "output_type": "stream",
          "text": [
            "Found 0 images belonging to 0 classes.\n"
          ],
          "name": "stdout"
        }
      ]
    },
    {
      "cell_type": "markdown",
      "metadata": {
        "id": "7b-QHkoG5JJR",
        "colab_type": "text"
      },
      "source": [
        "OpenCV will be used to crop the image around the tumors where it will find the extreme points in contours "
      ]
    },
    {
      "cell_type": "code",
      "metadata": {
        "id": "OMZ5MRUDO-nZ",
        "colab_type": "code",
        "colab": {}
      },
      "source": [
        "def crop_brain_contour(image, plot=False):\n",
        "    \n",
        "    # Convert the image to grayscale, and blur it slightly\n",
        "    gray = cv2.cvtColor(image, cv2.COLOR_BGR2GRAY)\n",
        "    gray = cv2.GaussianBlur(gray, (5, 5), 0)\n",
        "    \n",
        "    thresh = cv2.threshold(gray, 45, 255, cv2.THRESH_BINARY)[1]\n",
        "    thresh = cv2.erode(thresh, None, iterations=2)\n",
        "    thresh = cv2.dilate(thresh, None, iterations=2)\n",
        "\n",
        "    # Find contours in thresholded image, then grab the largest one\n",
        "    cnts = cv2.findContours(thresh.copy(), cv2.RETR_EXTERNAL, cv2.CHAIN_APPROX_SIMPLE)\n",
        "    cnts = imutils.grab_contours(cnts)\n",
        "    c = max(cnts, key=cv2.contourArea)\n",
        "    # extreme points\n",
        "    extLeft = tuple(c[c[:, :, 0].argmin()][0])\n",
        "    extRight = tuple(c[c[:, :, 0].argmax()][0])\n",
        "    extTop = tuple(c[c[:, :, 1].argmin()][0])\n",
        "    extBot = tuple(c[c[:, :, 1].argmax()][0])\n",
        "    \n",
        "    # crop new image out of the original image using the four extreme points (left, right, top, bottom)\n",
        "    new_image = image[extTop[1]:extBot[1], extLeft[0]:extRight[0]]            \n",
        "\n",
        "    if plot:\n",
        "        plt.figure()\n",
        "        plt.subplot(1, 2, 1)\n",
        "        plt.imshow(image)\n",
        "        plt.tick_params(axis='both', which='both', top=False, bottom=False, left=False, right=False,labelbottom=False, labeltop=False, labelleft=False, labelright=False)\n",
        "        plt.title('Original Image')\n",
        "        plt.subplot(1, 2, 2)\n",
        "        plt.imshow(new_image)\n",
        "        plt.tick_params(axis='both', which='both',top=False, bottom=False, left=False, right=False,labelbottom=False, labeltop=False, labelleft=False, labelright=False)\n",
        "        plt.title('Cropped Image')\n",
        "        plt.show()\n",
        "    \n",
        "    return new_image"
      ],
      "execution_count": 9,
      "outputs": []
    },
    {
      "cell_type": "code",
      "metadata": {
        "id": "xiytbYK2Pd9P",
        "colab_type": "code",
        "colab": {
          "base_uri": "https://localhost:8080/",
          "height": 227
        },
        "outputId": "d881f3e3-be0f-41e9-ee20-d0ca7e3188f1"
      },
      "source": [
        "# checking the result of the cropped images\n",
        "ex_img = cv2.imread(image_dir+'yes/Y107.jpg')\n",
        "ex_crop_img = crop_brain_contour(ex_img, True)"
      ],
      "execution_count": 10,
      "outputs": [
        {
          "output_type": "display_data",
          "data": {
            "image/png": "[encoded data removed]",
            "text/plain": [
              "<Figure size 432x288 with 2 Axes>"
            ]
          },
          "metadata": {
            "tags": []
          }
        }
      ]
    },
    {
      "cell_type": "code",
      "metadata": {
        "id": "mfY7M97cPkf7",
        "colab_type": "code",
        "colab": {}
      },
      "source": [
        "def load_data(dir_list, image_size):\n",
        "\n",
        "    # load all images in a directory\n",
        "    X = []\n",
        "    y = []\n",
        "    image_width, image_height = image_size\n",
        "    \n",
        "    for directory in dir_list:\n",
        "        for filename in listdir(directory):\n",
        "            image = cv2.imread(directory+'/'+filename)\n",
        "            image = crop_brain_contour(image, plot=False)\n",
        "            image = cv2.resize(image, dsize=(image_width, image_height), interpolation=cv2.INTER_CUBIC)\n",
        "            # normalize values\n",
        "            image = image / 255.\n",
        "            # convert image to numpy array and append it to X\n",
        "            X.append(image)\n",
        "            # append a value of 1 to the target array if the image\n",
        "            # is in the folder named 'yes', otherwise append 0.\n",
        "            if directory[-3:] == 'yes':\n",
        "                y.append([1])\n",
        "            else:\n",
        "                y.append([0])\n",
        "                \n",
        "    X = np.array(X)\n",
        "    y = np.array(y)\n",
        "    \n",
        "    # Shuffle the data\n",
        "    X, y = shuffle(X, y)\n",
        "    \n",
        "    print(f'Number of examples is: {len(X)}')\n",
        "    print(f'X shape is: {X.shape}')\n",
        "    print(f'y shape is: {y.shape}')\n",
        "\n",
        "    return X, y"
      ],
      "execution_count": 11,
      "outputs": []
    },
    {
      "cell_type": "code",
      "metadata": {
        "id": "wHa94K-1Px96",
        "colab_type": "code",
        "colab": {}
      },
      "source": [
        "augmented_yes =augmented_data_path+'yes'\n",
        "augmented_no = augmented_data_path+'no'\n",
        "\n",
        "IMG_WIDTH, IMG_HEIGHT = (240, 240)\n",
        "\n",
        "X, y = load_data([augmented_yes, augmented_no], (IMG_WIDTH, IMG_HEIGHT))"
      ],
      "execution_count": null,
      "outputs": []
    },
    {
      "cell_type": "code",
      "metadata": {
        "id": "GPc3C9WvPznP",
        "colab_type": "code",
        "colab": {}
      },
      "source": [
        "def plot_sample_images(X, y, n=40):\n",
        "    for label in [0,1]:\n",
        "        # grab the first n images with the corresponding y values equal to label\n",
        "        images = X[np.argwhere(y == label)]\n",
        "        n_images = images[:n]\n",
        "        \n",
        "        columns_n = 10\n",
        "        rows_n = int(n/ columns_n)\n",
        "\n",
        "        plt.figure(figsize=(10, 8))\n",
        "        \n",
        "        i = 1 # current plot        \n",
        "        for image in n_images:\n",
        "            plt.subplot(rows_n, columns_n, i)\n",
        "            plt.imshow(image[0])\n",
        "            \n",
        "            # remove ticks\n",
        "            plt.tick_params(axis='both', which='both', \n",
        "                            top=False, bottom=False, left=False, right=False,\n",
        "                           labelbottom=False, labeltop=False, labelleft=False, labelright=False)\n",
        "            \n",
        "            i += 1\n",
        "        \n",
        "        label_to_str = lambda label: \"Yes\" if label == 1 else \"No\"\n",
        "        plt.suptitle(f\"Brain Tumor: {label_to_str(label)}\")\n",
        "        plt.show()"
      ],
      "execution_count": null,
      "outputs": []
    },
    {
      "cell_type": "code",
      "metadata": {
        "id": "Xns_89F4P2Y8",
        "colab_type": "code",
        "colab": {}
      },
      "source": [
        "plot_sample_images(X, y)"
      ],
      "execution_count": null,
      "outputs": []
    },
    {
      "cell_type": "markdown",
      "metadata": {
        "id": "d4lJnJnjEIoO",
        "colab_type": "text"
      },
      "source": [
        "#TRAIN, VALIDATION AND TEST SPLIT"
      ]
    },
    {
      "cell_type": "code",
      "metadata": {
        "id": "QTQeAHOFP393",
        "colab_type": "code",
        "colab": {}
      },
      "source": [
        "def split_data(X, y, test_size=0.2):\n",
        "       \n",
        "    X_train, X_test_val, y_train, y_test_val = train_test_split(X, y, test_size=test_size)\n",
        "    X_test, X_val, y_test, y_val = train_test_split(X_test_val, y_test_val, test_size=0.5)\n",
        "    \n",
        "    return X_train, y_train, X_val, y_val, X_test, y_test"
      ],
      "execution_count": null,
      "outputs": []
    },
    {
      "cell_type": "code",
      "metadata": {
        "id": "jTtkioJoQGUE",
        "colab_type": "code",
        "colab": {}
      },
      "source": [
        "X_train, y_train, X_val, y_val, X_test, y_test = split_data(X, y, test_size=0.2)"
      ],
      "execution_count": null,
      "outputs": []
    },
    {
      "cell_type": "code",
      "metadata": {
        "id": "DTRK6iAWC2m-",
        "colab_type": "code",
        "colab": {}
      },
      "source": [
        "# check X and Y shapes\n",
        "print('X train Shape:', X_train.shape)\n",
        "print('y train Shape:', y_train.shape)\n",
        "print('-----------------------------------------')\n",
        "print('X validation Shape:', X_val.shape)\n",
        "print('y validation Shape:', y_val.shape)\n",
        "print('-----------------------------------------')\n",
        "print('X test Shape:', X_test.shape)\n",
        "print('y test Shape:', y_test.shape)"
      ],
      "execution_count": null,
      "outputs": []
    },
    {
      "cell_type": "markdown",
      "metadata": {
        "id": "4IxjMnOuLv9N",
        "colab_type": "text"
      },
      "source": [
        "From the results obtained with the shape, for the X train it can be seen that the first value represents the amount of images (e.g. 1651), then the next two values represent the shape of the image (e.g. 240x240) and the last value represents the channels (e.g. 3)"
      ]
    },
    {
      "cell_type": "markdown",
      "metadata": {
        "id": "0OlPnsCbKnA0",
        "colab_type": "text"
      },
      "source": [
        "#FUNCTIONS FOR ROC_SCORE AND VISUALIZATIONS"
      ]
    },
    {
      "cell_type": "markdown",
      "metadata": {
        "id": "xJdUKKP_K-lg",
        "colab_type": "text"
      },
      "source": [
        "Due to the fact that roc_score cannot be calculated in mini-batches, we need to create a custom function that measures roc_score at the end of each epoch. Also, implementing a visualisation function for loss, accuracy and roc_score."
      ]
    },
    {
      "cell_type": "code",
      "metadata": {
        "id": "1zjPD2zwKrZb",
        "colab_type": "code",
        "colab": {}
      },
      "source": [
        "# function for roc_score\n",
        "def auroc(y_true, y_pred):\n",
        "    return tf.py_func(roc_auc_score, (y_true, y_pred), tf.double)"
      ],
      "execution_count": null,
      "outputs": []
    },
    {
      "cell_type": "code",
      "metadata": {
        "id": "3sajP8njKw33",
        "colab_type": "code",
        "colab": {}
      },
      "source": [
        "# function for visualisations\n",
        "def visualize_training_results(results):\n",
        "    history = results.history\n",
        "    plt.figure()\n",
        "    plt.plot(history['val_loss'])\n",
        "    plt.plot(history['loss'])\n",
        "    plt.legend(['val_loss', 'loss'])\n",
        "    plt.title('Loss')\n",
        "    plt.xlabel('Epochs')\n",
        "    plt.ylabel('Loss')\n",
        "    plt.show()\n",
        "    \n",
        "    plt.figure()\n",
        "    plt.plot(history['val_acc'])\n",
        "    plt.plot(history['acc'])\n",
        "    plt.legend(['val_acc', 'acc'])\n",
        "    plt.title('Accuracy')\n",
        "    plt.xlabel('Epochs')\n",
        "    plt.ylabel('Accuracy')\n",
        "    plt.show()\n",
        "    \n",
        "    plt.figure()\n",
        "    plt.plot(history['val_auroc'])\n",
        "    plt.plot(history['auroc'])\n",
        "    plt.legend(['val_auroc', 'auroc'])\n",
        "    plt.title('roc_auc')\n",
        "    plt.xlabel('epochs')\n",
        "    plt.ylabel('roc_auc')\n",
        "    plt.show()"
      ],
      "execution_count": null,
      "outputs": []
    },
    {
      "cell_type": "markdown",
      "metadata": {
        "id": "nR3RC5UJLMhj",
        "colab_type": "text"
      },
      "source": [
        "#BASELINE MODEL"
      ]
    },
    {
      "cell_type": "markdown",
      "metadata": {
        "id": "ngxiOJ1uLP52",
        "colab_type": "text"
      },
      "source": [
        "As baseline model, we'll be using a simple Dense layer model. Dense layers are usually not the preferred choice when it comes to image recognition as they are not able to detect pattern in a 'geometric' way in the same way CNN do with horizontal and vertical lines. The input_size for a Dense NN is simply a vector long as the size of the image multiplied by the different layers. In our case, this would 500 width x 500 height x 1 layer (because we pre-processed the images to be in grayscale)"
      ]
    },
    {
      "cell_type": "code",
      "metadata": {
        "id": "QyM3YopiLQn2",
        "colab_type": "code",
        "colab": {}
      },
      "source": [
        "# checking for new shapes\n",
        "print(X_train.shape)"
      ],
      "execution_count": null,
      "outputs": []
    },
    {
      "cell_type": "code",
      "metadata": {
        "id": "XccBzA9JOE8V",
        "colab_type": "code",
        "colab": {}
      },
      "source": [
        "# gaussian blurring and grayscaling!!! and 64x64\n",
        "# getting all the images in the directory training/normal and reshape them to 600 pixels\n",
        "train_generator_base = ImageDataGenerator(rescale= 1./255).flow_from_directory(\n",
        "        image_dir, \n",
        "        target_size=(500,500),\n",
        "        batch_size = 1500,\n",
        "        color_mode = 'grayscale',\n",
        "        seed = 12\n",
        "        )\n"
      ],
      "execution_count": null,
      "outputs": []
    },
    {
      "cell_type": "code",
      "metadata": {
        "id": "WiI29eftOc5X",
        "colab_type": "code",
        "colab": {}
      },
      "source": [
        "# create the datasets\n",
        "train_images, train_labels = next(train_generator_base)\n",
        "array_to_img(train_images[0])"
      ],
      "execution_count": null,
      "outputs": []
    },
    {
      "cell_type": "code",
      "metadata": {
        "id": "LyutWSsaNoD6",
        "colab_type": "code",
        "colab": {}
      },
      "source": [
        "# looking at the dataset shapes of all our images\n",
        "\n",
        "print('------------data')\n",
        "print(train_images.shape)\n",
        "\n",
        "print('-----------target')\n",
        "print(train_labels.shape)"
      ],
      "execution_count": null,
      "outputs": []
    },
    {
      "cell_type": "code",
      "metadata": {
        "id": "5Ef3uOokO7f1",
        "colab_type": "code",
        "colab": {}
      },
      "source": [
        "# We need to transform our training and validation dataset into a (1500, 500x500x1) and (300, 500x500x1) respectively\n",
        "\n",
        "train_img_dense = train_images.reshape(500,-1)"
      ],
      "execution_count": null,
      "outputs": []
    },
    {
      "cell_type": "code",
      "metadata": {
        "id": "iQzULCl_O2Ox",
        "colab_type": "code",
        "colab": {}
      },
      "source": [
        "# checking for new shapes\n",
        "print(train_img_dense.shape)"
      ],
      "execution_count": null,
      "outputs": []
    },
    {
      "cell_type": "code",
      "metadata": {
        "id": "iwDHshw4PLoN",
        "colab_type": "code",
        "colab": {}
      },
      "source": [
        "# double-checking what tuple corresponds to each class \n",
        "print(train_generator_base.class_indices)"
      ],
      "execution_count": null,
      "outputs": []
    },
    {
      "cell_type": "code",
      "metadata": {
        "id": "Kl1jRmxiPQl6",
        "colab_type": "code",
        "colab": {}
      },
      "source": [
        "# reshaping the train and test labels with 1 corresponding to positive to pneumonia\n",
        "train_labels_final = train_labels.T[[1]].T"
      ],
      "execution_count": null,
      "outputs": []
    },
    {
      "cell_type": "code",
      "metadata": {
        "id": "D5Le33WmPTAm",
        "colab_type": "code",
        "colab": {}
      },
      "source": [
        "print(train_labels_final.shape)"
      ],
      "execution_count": null,
      "outputs": []
    },
    {
      "cell_type": "markdown",
      "metadata": {
        "id": "4q92z9i_DRrw",
        "colab_type": "text"
      },
      "source": [
        "#INITIAL BASELINE MODEL DENSE LAYER NEURAL NETWORK"
      ]
    },
    {
      "cell_type": "markdown",
      "metadata": {
        "id": "ko4egMX6EiWW",
        "colab_type": "text"
      },
      "source": [
        "We chose as the baseline model a Dense Neural Network with only one single layer with 20 nodes. Activation function chosen is relu while we have to keep the final activation function as a sigmoid since we have a binary classification problem."
      ]
    },
    {
      "cell_type": "code",
      "metadata": {
        "id": "YHnaYFJnEgxq",
        "colab_type": "code",
        "colab": {}
      },
      "source": [
        "# instatiating a sequential model\n",
        "model = Sequential()"
      ],
      "execution_count": null,
      "outputs": []
    },
    {
      "cell_type": "code",
      "metadata": {
        "id": "OjtmFC--Q05Z",
        "colab_type": "code",
        "colab": {}
      },
      "source": [
        "from keras.applications import VGG16\n",
        "\n",
        "conv_base = VGG16(weights='imagenet',\n",
        "                  include_top=False,\n",
        "                  input_shape=(150, 150, 3))"
      ],
      "execution_count": null,
      "outputs": []
    },
    {
      "cell_type": "code",
      "metadata": {
        "id": "IhwQs1aDQ5qe",
        "colab_type": "code",
        "colab": {}
      },
      "source": [
        "model = Sequential()\n",
        "model.add(conv_base)\n",
        "model.add(layers.Flatten())"
      ],
      "execution_count": null,
      "outputs": []
    },
    {
      "cell_type": "code",
      "metadata": {
        "id": "KUMe9fjfEqsv",
        "colab_type": "code",
        "colab": {}
      },
      "source": [
        "model.add(layers.Dense(256, activation='relu'))\n",
        "model.add(layers.Dense(1, activation='sigmoid'))"
      ],
      "execution_count": null,
      "outputs": []
    },
    {
      "cell_type": "code",
      "metadata": {
        "id": "3nJNcvVBPuVD",
        "colab_type": "code",
        "colab": {}
      },
      "source": [
        "# compiling the model\n",
        "model.compile(loss='binary_crossentropy', \n",
        "                optimizer='sgd', \n",
        "                metrics=['accuracy', auroc])"
      ],
      "execution_count": null,
      "outputs": []
    },
    {
      "cell_type": "code",
      "metadata": {
        "id": "7-LlJmrVPveN",
        "colab_type": "code",
        "colab": {}
      },
      "source": [
        "# fitting the model\n",
        "results_1 = model.fit(train_img_dense,train_labels_final,\n",
        "           epochs = 10,\n",
        "           batch_size = 32,"
      ],
      "execution_count": null,
      "outputs": []
    },
    {
      "cell_type": "code",
      "metadata": {
        "id": "BU0iQHRRP04a",
        "colab_type": "code",
        "colab": {}
      },
      "source": [
        "visualize_training_results(results_1)"
      ],
      "execution_count": null,
      "outputs": []
    },
    {
      "cell_type": "markdown",
      "metadata": {
        "id": "hiQzzMGcJxII",
        "colab_type": "text"
      },
      "source": [
        "#MODEL 2"
      ]
    },
    {
      "cell_type": "code",
      "metadata": {
        "id": "OJlThnADQ7Lq",
        "colab_type": "code",
        "colab": {}
      },
      "source": [
        "def build_model(input_shape):\n",
        "    X_input = Input(input_shape) \n",
        "    X = ZeroPadding2D((2, 2))(X_input) \n",
        "    \n",
        "    X = Conv2D(32, (7, 7), strides = (1, 1))(X)\n",
        "    X = BatchNormalization(axis = 3, name = 'bn0')(X)\n",
        "    X = Activation('relu')(X) \n",
        "    \n",
        "    X = MaxPooling2D((4, 4))(X) \n",
        "    X = MaxPooling2D((4, 4))(X) \n",
        "    X = Flatten()(X) \n",
        "    X = Dense(1, activation='sigmoid')(X) \n",
        "    model = Model(inputs = X_input, outputs = X)\n",
        "    \n",
        "    return model"
      ],
      "execution_count": null,
      "outputs": []
    },
    {
      "cell_type": "code",
      "metadata": {
        "id": "8AupaPBUQ7eo",
        "colab_type": "code",
        "colab": {
          "base_uri": "https://localhost:8080/",
          "height": 459
        },
        "outputId": "662ec6eb-0f2f-49ab-ac29-a72bb55e98af"
      },
      "source": [
        "IMG_SHAPE = (IMG_WIDTH, IMG_HEIGHT, 3)\n",
        "model=build_model(IMG_SHAPE)\n",
        "model.summary()"
      ],
      "execution_count": null,
      "outputs": [
        {
          "output_type": "stream",
          "text": [
            "Model: \"model_1\"\n",
            "_________________________________________________________________\n",
            "Layer (type)                 Output Shape              Param #   \n",
            "=================================================================\n",
            "input_2 (InputLayer)         [(None, 240, 240, 3)]     0         \n",
            "_________________________________________________________________\n",
            "zero_padding2d_1 (ZeroPaddin (None, 244, 244, 3)       0         \n",
            "_________________________________________________________________\n",
            "conv2d_1 (Conv2D)            (None, 238, 238, 32)      4736      \n",
            "_________________________________________________________________\n",
            "bn0 (BatchNormalization)     (None, 238, 238, 32)      128       \n",
            "_________________________________________________________________\n",
            "activation_1 (Activation)    (None, 238, 238, 32)      0         \n",
            "_________________________________________________________________\n",
            "max_pooling2d_2 (MaxPooling2 (None, 59, 59, 32)        0         \n",
            "_________________________________________________________________\n",
            "max_pooling2d_3 (MaxPooling2 (None, 14, 14, 32)        0         \n",
            "_________________________________________________________________\n",
            "flatten_1 (Flatten)          (None, 6272)              0         \n",
            "_________________________________________________________________\n",
            "dense_1 (Dense)              (None, 1)                 6273      \n",
            "=================================================================\n",
            "Total params: 11,137\n",
            "Trainable params: 11,073\n",
            "Non-trainable params: 64\n",
            "_________________________________________________________________\n"
          ],
          "name": "stdout"
        }
      ]
    },
    {
      "cell_type": "code",
      "metadata": {
        "id": "W9Lr6Q41Q_kC",
        "colab_type": "code",
        "colab": {
          "base_uri": "https://localhost:8080/",
          "height": 802
        },
        "outputId": "c02d19b6-4014-4a4e-bb18-a9f737486baa"
      },
      "source": [
        "model.compile(optimizer='adam', loss='binary_crossentropy', metrics=['accuracy'])\n",
        "model.fit(x=X_train, y=y_train, batch_size=32, epochs=22, validation_data=(X_val, y_val))"
      ],
      "execution_count": null,
      "outputs": [
        {
          "output_type": "stream",
          "text": [
            "Epoch 1/22\n",
            "46/46 [==============================] - 122s 3s/step - loss: 0.8853 - accuracy: 0.6025 - val_loss: 0.6304 - val_accuracy: 0.7129\n",
            "Epoch 2/22\n",
            "46/46 [==============================] - 121s 3s/step - loss: 0.5196 - accuracy: 0.7493 - val_loss: 0.6171 - val_accuracy: 0.6613\n",
            "Epoch 3/22\n",
            "46/46 [==============================] - 122s 3s/step - loss: 0.4586 - accuracy: 0.7825 - val_loss: 0.5339 - val_accuracy: 0.7935\n",
            "Epoch 4/22\n",
            "46/46 [==============================] - 122s 3s/step - loss: 0.3808 - accuracy: 0.8345 - val_loss: 0.5020 - val_accuracy: 0.8000\n",
            "Epoch 5/22\n",
            "46/46 [==============================] - 122s 3s/step - loss: 0.3279 - accuracy: 0.8733 - val_loss: 0.5064 - val_accuracy: 0.7677\n",
            "Epoch 6/22\n",
            "46/46 [==============================] - 122s 3s/step - loss: 0.3208 - accuracy: 0.8650 - val_loss: 0.4732 - val_accuracy: 0.7839\n",
            "Epoch 7/22\n",
            "46/46 [==============================] - 122s 3s/step - loss: 0.3262 - accuracy: 0.8463 - val_loss: 0.4363 - val_accuracy: 0.7968\n",
            "Epoch 8/22\n",
            "46/46 [==============================] - 122s 3s/step - loss: 0.2657 - accuracy: 0.8850 - val_loss: 0.7675 - val_accuracy: 0.6000\n",
            "Epoch 9/22\n",
            "46/46 [==============================] - 122s 3s/step - loss: 0.2686 - accuracy: 0.8809 - val_loss: 0.3996 - val_accuracy: 0.8387\n",
            "Epoch 10/22\n",
            "46/46 [==============================] - 123s 3s/step - loss: 0.2140 - accuracy: 0.9204 - val_loss: 0.4518 - val_accuracy: 0.7968\n",
            "Epoch 11/22\n",
            "46/46 [==============================] - 122s 3s/step - loss: 0.2406 - accuracy: 0.9010 - val_loss: 0.4903 - val_accuracy: 0.7903\n",
            "Epoch 12/22\n",
            "46/46 [==============================] - 122s 3s/step - loss: 0.2198 - accuracy: 0.9190 - val_loss: 0.3752 - val_accuracy: 0.8516\n",
            "Epoch 13/22\n",
            "46/46 [==============================] - 121s 3s/step - loss: 0.2010 - accuracy: 0.9217 - val_loss: 0.3115 - val_accuracy: 0.8677\n",
            "Epoch 14/22\n",
            "46/46 [==============================] - 121s 3s/step - loss: 0.2070 - accuracy: 0.9141 - val_loss: 0.5222 - val_accuracy: 0.7742\n",
            "Epoch 15/22\n",
            "46/46 [==============================] - 122s 3s/step - loss: 0.1788 - accuracy: 0.9328 - val_loss: 0.4606 - val_accuracy: 0.8129\n",
            "Epoch 16/22\n",
            "46/46 [==============================] - 122s 3s/step - loss: 0.1470 - accuracy: 0.9439 - val_loss: 0.3485 - val_accuracy: 0.8452\n",
            "Epoch 17/22\n",
            "46/46 [==============================] - 121s 3s/step - loss: 0.1541 - accuracy: 0.9411 - val_loss: 0.3390 - val_accuracy: 0.8774\n",
            "Epoch 18/22\n",
            "46/46 [==============================] - 122s 3s/step - loss: 0.1465 - accuracy: 0.9453 - val_loss: 0.3781 - val_accuracy: 0.8613\n",
            "Epoch 19/22\n",
            "46/46 [==============================] - 122s 3s/step - loss: 0.1125 - accuracy: 0.9640 - val_loss: 0.3328 - val_accuracy: 0.8613\n",
            "Epoch 20/22\n",
            "46/46 [==============================] - 122s 3s/step - loss: 0.1046 - accuracy: 0.9702 - val_loss: 0.3225 - val_accuracy: 0.9000\n",
            "Epoch 21/22\n",
            "46/46 [==============================] - 122s 3s/step - loss: 0.0945 - accuracy: 0.9813 - val_loss: 0.3540 - val_accuracy: 0.8645\n",
            "Epoch 22/22\n",
            "46/46 [==============================] - 122s 3s/step - loss: 0.1093 - accuracy: 0.9612 - val_loss: 0.4381 - val_accuracy: 0.8323\n"
          ],
          "name": "stdout"
        },
        {
          "output_type": "execute_result",
          "data": {
            "text/plain": [
              "<tensorflow.python.keras.callbacks.History at 0x7fd696b44048>"
            ]
          },
          "metadata": {
            "tags": []
          },
          "execution_count": 41
        }
      ]
    },
    {
      "cell_type": "code",
      "metadata": {
        "id": "mMeffT-9RCjJ",
        "colab_type": "code",
        "colab": {}
      },
      "source": [
        "history = model.history.history"
      ],
      "execution_count": null,
      "outputs": []
    },
    {
      "cell_type": "markdown",
      "metadata": {
        "id": "6Zx1ICAaRC47",
        "colab_type": "text"
      },
      "source": [
        "Plotting accuracy"
      ]
    },
    {
      "cell_type": "code",
      "metadata": {
        "id": "eaL4iT5QRZm0",
        "colab_type": "code",
        "colab": {}
      },
      "source": [
        "def plot_metrics(history):\n",
        "    \n",
        "    train_loss = history['loss']\n",
        "    val_loss = history['val_loss']\n",
        "    train_acc = history['accuracy']\n",
        "    val_acc = history['val_accuracy']\n",
        "    \n",
        "    # Loss\n",
        "    plt.figure()\n",
        "    plt.plot(train_loss, label='Training Loss')\n",
        "    plt.plot(val_loss, label='Validation Loss')\n",
        "    plt.title('Loss')\n",
        "    plt.legend()\n",
        "    plt.show()\n",
        "    \n",
        "    # Accuracy\n",
        "    plt.figure()\n",
        "    plt.plot(train_acc, label='Training Accuracy')\n",
        "    plt.plot(val_acc, label='Validation Accuracy')\n",
        "    plt.title('Accuracy')\n",
        "    plt.legend()\n",
        "    plt.show()"
      ],
      "execution_count": null,
      "outputs": []
    },
    {
      "cell_type": "code",
      "metadata": {
        "id": "5eA2nD2FRaSi",
        "colab_type": "code",
        "colab": {
          "base_uri": "https://localhost:8080/",
          "height": 545
        },
        "outputId": "9327f32d-aa39-4e88-c4cf-7414c585500a"
      },
      "source": [
        "plot_metrics(history)"
      ],
      "execution_count": null,
      "outputs": [
        {
          "output_type": "display_data",
          "data": {
            "image/png": "[encoded data removed]",
            "text/plain": [
              "<Figure size 432x288 with 1 Axes>"
            ]
          },
          "metadata": {
            "tags": [],
            "needs_background": "light"
          }
        },
        {
          "output_type": "display_data",
          "data": {
            "image/png": "[encoded data removed]",
            "text/plain": [
              "<Figure size 432x288 with 1 Axes>"
            ]
          },
          "metadata": {
            "tags": [],
            "needs_background": "light"
          }
        }
      ]
    },
    {
      "cell_type": "code",
      "metadata": {
        "id": "BX0uNYN6RiUG",
        "colab_type": "code",
        "colab": {}
      },
      "source": [
        ""
      ],
      "execution_count": null,
      "outputs": []
    }
  ]
}